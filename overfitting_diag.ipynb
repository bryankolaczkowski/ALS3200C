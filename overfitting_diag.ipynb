{
  "nbformat": 4,
  "nbformat_minor": 0,
  "metadata": {
    "colab": {
      "name": "overfitting_diag.ipynb",
      "provenance": [],
      "collapsed_sections": [],
      "authorship_tag": "ABX9TyP/QPGPlPOuw13JZAxXUkie"
    },
    "kernelspec": {
      "name": "python3",
      "display_name": "Python 3"
    },
    "language_info": {
      "name": "python"
    }
  },
  "cells": [
    {
      "cell_type": "markdown",
      "metadata": {
        "id": "xy5inGK6bgCs"
      },
      "source": [
        "# diagnosing model overfitting\n",
        "\n",
        "Your model is \"overfitting\" your training data when it starts to 'fit' the 'error' in the data, rather than fitting the general 'pattern'. When this happens, the model becomes 'specific' to the *particular* data set you used to train it, and it won't \"generalize\" well to *new* data.\n",
        "\n",
        "We can 'exploit' what overfitting 'looks like' to develop a 'diagnostic' for determining if a model is 'overfit' or not.\n",
        "\n",
        "We just need *two* data sets:\n",
        "\n",
        "* __training data__ to fit the parameters of the model\n",
        "* __validation data__ to 'check' if the fit model 'generalizes' to new data\n",
        "\n",
        "If the model performs roughly *the same* on the training and validation data, then the model is probably *not* overfitting the training data. However, if the model performs *much better* on the *training* data, it is probably overfitting.\n",
        "\n",
        "How do we measure the model's 'performance'?\n",
        "\n",
        "Well, we *already* have the \"loss function\", which tells us how well the model's predictions 'fit' the 'real' response values. We can use the *same* loss function that we use to fit the model to the training data to evaluate the model's performance on the validation data.\n",
        "\n",
        "So, our \"overfitting diagnostic\" procedure will go something like this:\n",
        "\n",
        "1. Partition the data into 2 sub-sets: training and validation\n",
        "2. Fit the model to the training data and evaluate the \"training loss\"\n",
        "3. Evaluate the model's \"validation loss\" using the validation data\n",
        "4. If the validation loss is *much higher* than the training loss, the model is \"overfit\" to the training data (here we assume that *lower* loss is *better*, which it usually is). Otherwise, if the validation loss and the training loss are *about the same*, we can conclude that the model is probably not overfitting the training data.\n",
        "\n",
        "This diagnostic procedure is *widely used* in AI and machine learning, so tensorflow and other libraries have *built in procedures* to help facilitate its use.\n",
        "\n",
        "First, we need to partition our data into training and validation sub-sets. We'll start by simulating some data."
      ]
    },
    {
      "cell_type": "code",
      "metadata": {
        "id": "0D8HcQsWbcre"
      },
      "source": [
        "import sklearn.datasets\n",
        "\n",
        "x,y = sklearn.datasets.make_regression(n_samples=100,\n",
        "                                       n_features=1,\n",
        "                                       bias=100.0,\n",
        "                                       noise=10.0,\n",
        "                                       random_state=201188)\n",
        "\n",
        "y /= 100.0"
      ],
      "execution_count": 7,
      "outputs": []
    },
    {
      "cell_type": "markdown",
      "metadata": {
        "id": "B0lj5Od4h_b6"
      },
      "source": [
        "And we can plot our data, as before."
      ]
    },
    {
      "cell_type": "code",
      "metadata": {
        "colab": {
          "base_uri": "https://localhost:8080/",
          "height": 282
        },
        "id": "vus2673iicDn",
        "outputId": "3f2f9b16-4b1d-4212-a0b2-0d5fe5204a8c"
      },
      "source": [
        "import matplotlib.pyplot as plt\n",
        "\n",
        "plt.scatter(x,y, marker='o')"
      ],
      "execution_count": 8,
      "outputs": [
        {
          "output_type": "execute_result",
          "data": {
            "text/plain": [
              "<matplotlib.collections.PathCollection at 0x7efeb9a96110>"
            ]
          },
          "metadata": {
            "tags": []
          },
          "execution_count": 8
        },
        {
          "output_type": "display_data",
          "data": {
            "image/png": "[encoded data removed]",
            "text/plain": [
              "<Figure size 432x288 with 1 Axes>"
            ]
          },
          "metadata": {
            "tags": [],
            "needs_background": "light"
          }
        }
      ]
    },
    {
      "cell_type": "markdown",
      "metadata": {
        "id": "zh3uU_DqicWk"
      },
      "source": [
        "These are pretty 'noisy' data, but it is what it is. We can't 'decide' what data we'll get, only how we'll analyze it."
      ]
    },
    {
      "cell_type": "markdown",
      "metadata": {
        "id": "1eFcrqaui_4X"
      },
      "source": [
        "## splitting data into training and validation sub-sets\n",
        "\n",
        "Now let's 'split' or \"partition\" our existing data into training and validation sub-sets. This 'mimics' the procedure of going out and collecting an entirely *new* data set for validation.\n",
        "\n",
        "If this were a *real* data analysis, we would want to be *extremely careful* about how we partition our data into training and validation sub-sets, so we don't 'fool' ourselves into thinking our model is doing well, when in fact it isn't. We want our validation to be a fair and realistic assessment of our model's expected performance on new data.\n",
        "\n",
        "In general, we want our validation data set to have a couple important properties:\n",
        "\n",
        "* We want the validation data to be \"representative\" of the \"entire\" data set. We *don't* want the validation data to *only* represent a narrow range of x- or y-values; we want it to span the *entire range* of both x- and y-values.\n",
        "* We want the validation data to be \"independent\" of the training data. Ideally, the validation data should represent an entirely *new* and independent data sample from the same underlying distribution as the training data. If the validation data samples are *too similar* to the training samples, the validation data and the training data are 'essentially the same', and the validation data no longer represents a good way to test how the model will perform on 'new' data.\n",
        "\n"
      ]
    },
    {
      "cell_type": "code",
      "metadata": {
        "id": "2wMsueZBms4A"
      },
      "source": [
        ""
      ],
      "execution_count": null,
      "outputs": []
    },
    {
      "cell_type": "markdown",
      "metadata": {
        "id": "TNH_r8SomtfE"
      },
      "source": [
        ""
      ]
    },
    {
      "cell_type": "markdown",
      "metadata": {
        "id": "Jmb_f_Nrmt5V"
      },
      "source": [
        "## a note on 3-way train-validate-test splits\n",
        "\n",
        "In our data analyses so far, we have been using a *single, pre-determined* neural network to analyze our data. This approach assumes that we already know which specific model we want to use, before collecting *any* data.\n",
        "\n",
        "In many cases, we might want to *try out* a bunch of *different* models, and then pick the *best one* to actually do the data analysis. This procedure is called \"model selection\".\n",
        "\n",
        "The way \"model selection\" typically works in neural network modeling is as follows.\n",
        "\n",
        "* First, you build *many different* neural networks. \n",
        "* Then, each network is fit to the same training data and evaluated for overfitting using the same validation data.\n",
        "* Finally, you use the performance of the models on the validation data to *select* the *best* model. Typically, you just choose the model with the *lowest loss* on the *validation* data as your 'best' model.\n",
        "\n",
        "But then, how do we evaluate the 'best' model's expected performance on *new* data?\n",
        "\n",
        "We *already* used the validation data to select the best model, so we can't *also* use the validation data to evaluate the best model's expected performance on *new* data - the model has *already seen* the validation data!\n",
        "\n",
        "In this case, we need *another* new data sub-set, typically called the \"test data\", in order to evaluate the best model's expected performance.\n",
        "\n",
        "This can be accomplished (and typically is), by partitioning the initial data into *3* sub-sets:\n",
        "\n",
        "* __training data__ - for fitting model parameters\n",
        "* __validation data__ - for evaluating overfitting and choosing the best model\n",
        "* __test data__ - for evaluating the best model's performance on *new* data.\n",
        "\n",
        "The important thing to remember is that, for this procedure to be reliable, you can *only* analyze the test data *__once__* at the very end, using the single model that you have chosen as the 'best' model. After you have calculated your model's loss on the test data, your analysis is *over* and you *can't change anything*. Otherwise, you might be inadvertently using the test data to help build your model, which invalidates the test!"
      ]
    }
  ]
}