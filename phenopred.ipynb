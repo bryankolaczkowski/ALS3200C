{
  "nbformat": 4,
  "nbformat_minor": 0,
  "metadata": {
    "colab": {
      "name": "phenopred.ipynb",
      "provenance": [],
      "collapsed_sections": []
    },
    "kernelspec": {
      "name": "python3",
      "display_name": "Python 3"
    },
    "language_info": {
      "name": "python"
    }
  },
  "cells": [
    {
      "cell_type": "markdown",
      "metadata": {
        "id": "ozxit2d2jHeI"
      },
      "source": [
        "# phenotype prediction case study\n",
        "\n",
        "The humble fruit fly, *Drosophila melanogaster* is one of the most important and well-studied model organisms in biological and biomedical research.\n",
        "\n",
        "Early research using the fruit fly helped to establish the basic 'rules' of genetics and inheritance, including generating basic information about how mutations occur.\n",
        "\n",
        "The fruit fly has been used extensively to learn about neural biology, including neurodevelopment and how neurological disorders important for human health occur, like Alzheimer's and Parkinson's.\n",
        "\n",
        "The close historical association between fruit fly and human populations led to the use of the fruit fly as a model for studying early human migrations, including understanding how humans may have adapted to their local environments as they migrated out of Africa to colonize the globe.\n",
        "\n",
        "The fruit fly was one of the first animals used to extensively study the links between genetic vatiation and differences in phenotypes at a whole-genome scale. In 2012, a public data-bank of ~200 'reference' fly lines were fully genome-sequenced and made available for use in a wide variety of genome-phenotype association experiments, with the results of all experiments made freely available to the public through the Drosophila Genetics Reference Panel (DGRP), now at the [dgrp2 website](http://dgrp.gnets.ncsu.edu/).\n",
        "\n",
        "In this exercise, we will develop a neural-network model for predicting a fly's 'longevity' (normalized lifespan) from >17,000 genomic mutations (SNPs) dispersed along the fruit fly's two main autosomal chromosomes."
      ]
    },
    {
      "cell_type": "markdown",
      "metadata": {
        "id": "uBTJ3QsoARIc"
      },
      "source": [
        "## data download and organization\n",
        "\n",
        "xx"
      ]
    },
    {
      "cell_type": "code",
      "metadata": {
        "id": "x09eqzW7ivpB"
      },
      "source": [
        "import pandas\n",
        "import numpy as np\n",
        "\n",
        "dataframe = pandas.read_csv('https://raw.githubusercontent.com/bryankolaczkowski/ALS3200C/main/phenopred.data.csv')\n",
        "dataframe.head()"
      ],
      "execution_count": null,
      "outputs": []
    },
    {
      "cell_type": "markdown",
      "metadata": {
        "id": "9D81y9G7jmx0"
      },
      "source": [
        "xx"
      ]
    },
    {
      "cell_type": "code",
      "metadata": {
        "id": "cAUMgQ8VrO34"
      },
      "source": [
        "train_dataframe = dataframe.sample(frac=0.8, random_state=402201)\n",
        "valid_dataframe = dataframe.drop(train_dataframe.index)\n",
        "print(train_dataframe.shape, valid_dataframe.shape)"
      ],
      "execution_count": null,
      "outputs": []
    },
    {
      "cell_type": "markdown",
      "metadata": {
        "id": "kPZCuoL7rOWw"
      },
      "source": [
        ""
      ]
    },
    {
      "cell_type": "code",
      "metadata": {
        "id": "A9EFQl-TliIh"
      },
      "source": [
        "snp_ids = [ x for x in dataframe.columns if x.find('SNP') == 0]\n",
        "train_x = train_dataframe[snp_ids].to_numpy(dtype=np.float32)\n",
        "valid_x = valid_dataframe[snp_ids].to_numpy(dtype=np.float32)\n",
        "print(train_x.shape, valid_x.shape)"
      ],
      "execution_count": null,
      "outputs": []
    },
    {
      "cell_type": "markdown",
      "metadata": {
        "id": "GNzDVXNKlhdB"
      },
      "source": [
        ""
      ]
    },
    {
      "cell_type": "code",
      "metadata": {
        "id": "DYXEknTvnE6X"
      },
      "source": [
        "train_y = train_dataframe['LS'].to_numpy(dtype=np.float32)\n",
        "valid_y = valid_dataframe['LS'].to_numpy(dtype=np.float32)\n",
        "print(train_y.shape, valid_y.shape)"
      ],
      "execution_count": null,
      "outputs": []
    },
    {
      "cell_type": "markdown",
      "metadata": {
        "id": "qXtptX3IpbzA"
      },
      "source": [
        ""
      ]
    },
    {
      "cell_type": "code",
      "metadata": {
        "id": "nD-_UHF3pcSf"
      },
      "source": [
        "import tensorflow as tf\n",
        "\n",
        "train_data = tf.data.Dataset.from_tensor_slices((train_x,train_y)).batch(10)\n",
        "valid_data = tf.data.Dataset.from_tensor_slices((valid_x,valid_y)).batch(36)\n"
      ],
      "execution_count": null,
      "outputs": []
    },
    {
      "cell_type": "markdown",
      "metadata": {
        "id": "tE_wy1vAusC_"
      },
      "source": [
        ""
      ]
    },
    {
      "cell_type": "code",
      "metadata": {
        "id": "GDdSOe5busg-"
      },
      "source": [
        "model = tf.keras.models.Sequential()\n",
        "model.add(tf.keras.layers.InputLayer(input_shape=[17165]))\n",
        "model.add(tf.keras.layers.Dropout(rate=0.98))\n",
        "model.add(tf.keras.layers.Dense(units=1))\n",
        "model.compile(optimizer=tf.keras.optimizers.RMSprop(),\n",
        "              loss=tf.keras.losses.MeanAbsoluteError())\n",
        "model.summary()\n",
        "\n",
        "model.fit(train_data, epochs=1000, validation_data=valid_data)\n",
        "\n",
        "train_y_hat = model.predict(train_x)\n",
        "valid_y_hat = model.predict(valid_x)\n",
        "\n",
        "import matplotlib.pyplot as plt\n",
        "plt.plot([10,60],[10,60])\n",
        "plt.scatter(train_y, train_y_hat, marker='o')\n",
        "plt.scatter(valid_y, valid_y_hat, marker='+')"
      ],
      "execution_count": null,
      "outputs": []
    }
  ]
}