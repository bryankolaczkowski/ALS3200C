{
  "nbformat": 4,
  "nbformat_minor": 0,
  "metadata": {
    "colab": {
      "name": "nonlinear_overfitting.ipynb",
      "provenance": [],
      "authorship_tag": "ABX9TyNCaN+BJwU/JGNn9e2MXFhx"
    },
    "kernelspec": {
      "name": "python3",
      "display_name": "Python 3"
    },
    "language_info": {
      "name": "python"
    }
  },
  "cells": [
    {
      "cell_type": "markdown",
      "metadata": {
        "id": "gKIuu-j7xTQ-"
      },
      "source": [
        "# introduction to model over-fitting\n",
        "\n",
        "XX"
      ]
    },
    {
      "cell_type": "code",
      "metadata": {
        "id": "gEiAUsO7xSm4"
      },
      "source": [
        ""
      ],
      "execution_count": null,
      "outputs": []
    }
  ]
}