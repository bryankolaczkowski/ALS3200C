{
  "nbformat": 4,
  "nbformat_minor": 0,
  "metadata": {
    "colab": {
      "name": "myscrnb.ipynb",
      "provenance": [],
      "authorship_tag": "ABX9TyOMAt6EF33f7Esrmn+RkmEn"
    },
    "kernelspec": {
      "name": "python3",
      "display_name": "Python 3"
    },
    "language_info": {
      "name": "python"
    }
  },
  "cells": [
    {
      "cell_type": "markdown",
      "metadata": {
        "id": "ttIBy6biJOzN"
      },
      "source": [
        "# welcome to your scratch jupyter notebook\n",
        "\n",
        "This notebook will introduce you to the basic functionality of jupyter notebooks and google colab.\n",
        "\n",
        "We'll do a few short exercises that highlight some of the things you can do with jupyter notebook text and code cells. After that, you can use this notebook to play around on your own.\n",
        "\n",
        "Remember that everything in this notebook is editable. You can add, delete or modify any of the text and code in this notebook.\n",
        "\n",
        "If you mess things up too much, you can always reload a fresh notebook from the course GitHub repository by clicking on the \"File\" tab in the upper-left corner of google colab. Select \"Open notebook\" from the drop-down menu (or hit the Ctrl+O keys), and you should see the 'popup' allowing you to connect to the GitHub repository and open a fresh notebook."
      ]
    },
    {
      "cell_type": "markdown",
      "metadata": {
        "id": "TEA1WUkZKfOS"
      },
      "source": [
        ""
      ]
    }
  ]
}