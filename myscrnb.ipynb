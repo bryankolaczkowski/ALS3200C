{
  "nbformat": 4,
  "nbformat_minor": 0,
  "metadata": {
    "colab": {
      "name": "myscrnb.ipynb",
      "provenance": []
    },
    "kernelspec": {
      "name": "python3",
      "display_name": "Python 3"
    },
    "language_info": {
      "name": "python"
    }
  },
  "cells": [
    {
      "cell_type": "markdown",
      "metadata": {
        "id": "ttIBy6biJOzN"
      },
      "source": [
        "# welcome to your scratch jupyter notebook\n",
        "\n",
        "This notebook will introduce you to the basic functionality of jupyter notebooks and google colab.\n",
        "\n",
        "We'll do a few short exercises that highlight some of the things you can do with jupyter notebook text and code cells. After that, you can use this notebook to play around on your own.\n",
        "\n",
        "Remember that everything in this notebook is editable. You can add, delete or modify any of the text and code in this notebook.\n",
        "\n",
        "If you mess things up too much, you can always reload a fresh notebook from the course GitHub repository by clicking on the \"File\" tab in the upper-left corner of google colab. Select \"Open notebook\" from the drop-down menu (or hit the Ctrl+O keys), and you should see the 'popup' allowing you to connect to the GitHub repository and open a fresh notebook."
      ]
    },
    {
      "cell_type": "markdown",
      "metadata": {
        "id": "TEA1WUkZKfOS"
      },
      "source": [
        "## let's get started\n",
        "\n",
        "This is a \"text\" cell. It is used to provide instructions and information about what the code cells in the notebook are doing.\n",
        "\n",
        "You can edit this text cell by double-clicking anywhere in its contents.\n",
        "\n",
        "If you double-click thi scell, you can add, delete or modify its contents using a simple text editor that includes things like:\n",
        "\n",
        "**bold** and *italicized* text, but also:\n",
        "\n",
        "numbered lists\n",
        "1.   List item\n",
        "2.   List item\n",
        "\n",
        "and un-numbered lists\n",
        "*   List item\n",
        "*   List item\n",
        "\n",
        "You can also insert [hyperlinks](https://ai.ufl.edu).\n",
        "\n",
        "Try double-clicking on this text cell and editing its contents. You'll see that there is a simple 'markdown language' that controls the text formatting. For example, you can make a text **bold** by enclosing it it double-stars \"**\". And you can create a title by prefacing the title text with 'hashtags' \"#\". You can also control text formatting using the text-formatting icons that appear at the top of the text cell when you double-click it to start editing."
      ]
    },
    {
      "cell_type": "markdown",
      "metadata": {
        "id": "qR3IZgOh6BH-"
      },
      "source": [
        "## what about code cells?\n",
        "\n",
        "Text cells are interesting and all, but they provide little more than what you'd get from a simple web page.\n",
        "\n",
        "The real 'magic' of jupyter notebooks comes from the \"code\" cells, which allow you to write, edit and execute Python code in real time.\n",
        "\n",
        "We saw a very simple Python code block in the first jupyter notebook. It is repeated below this text block. Clicking on the right-hand side of the code block executes the code. If the code produces any output (not all code produces output), the output is displayed below the code block when the code finishes running.\n",
        "\n",
        "Go ahead and run the following 'hello world' code block. You'll likely get a Warning message stating that this notebook was not created by google; that's fine, run it anyway!\n",
        "\n",
        "You should see the \"hello world!\" output. You might also notice that the upper-right corner of the google colab window has changed! By running a code block, you have also connected to an online runtime environment - a computer on the internet that is executing your code for you. Now you should see your notebook's RAM and Disk usage displayed in the upper-right corner."
      ]
    },
    {
      "cell_type": "code",
      "metadata": {
        "id": "acNbEhPZ75e8",
        "outputId": "dca186ce-74b9-4024-da79-6e39fe79cc07",
        "colab": {
          "base_uri": "https://localhost:8080/"
        }
      },
      "source": [
        "print('hello world!')"
      ],
      "execution_count": 1,
      "outputs": [
        {
          "output_type": "stream",
          "text": [
            "hello world!\n"
          ],
          "name": "stdout"
        }
      ]
    },
    {
      "cell_type": "markdown",
      "metadata": {
        "id": "b2Grdl_k8no3"
      },
      "source": [
        "## plotting a line\n",
        "\n",
        "Printing \"hello world\" can get pretty boring.\n",
        "\n"
      ]
    }
  ]
}