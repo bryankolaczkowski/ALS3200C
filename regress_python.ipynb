{
  "nbformat": 4,
  "nbformat_minor": 0,
  "metadata": {
    "colab": {
      "name": "myscrnb.ipynb",
      "provenance": []
    },
    "kernelspec": {
      "name": "python3",
      "display_name": "Python 3"
    },
    "language_info": {
      "name": "python"
    }
  },
  "cells": [
    {
      "cell_type": "markdown",
      "metadata": {
        "id": "ttIBy6biJOzN"
      },
      "source": [
        "# linear regression in python\n",
        "\n",
        "In this notebook, "
      ]
    },
    {
      "cell_type": "markdown",
      "metadata": {
        "id": "TEA1WUkZKfOS"
      },
      "source": [
        "## let's get started\n",
        "\n",
        "This is a \"text\" cell. It is used to provide instructions and information about what the code cells in the notebook are doing.\n",
        "\n",
        "You can edit this text cell by double-clicking anywhere in its contents.\n",
        "\n",
        "If you double-click this cell, you can add, delete or modify its contents using a simple text editor that includes things like:\n",
        "\n",
        "**bold** and *italicized* text, but also:\n",
        "\n",
        "numbered lists\n",
        "1.   List item\n",
        "2.   List item\n",
        "\n",
        "and un-numbered lists\n",
        "*   List item\n",
        "*   List item\n",
        "\n",
        "You can also insert [hyperlinks](https://ai.ufl.edu).\n",
        "\n",
        "Try double-clicking on this text cell and editing its contents. You'll see that there is a simple 'markdown language' that controls the text formatting. For example, you can make a text **bold** by enclosing it in double-stars \"**\". And you can create a title by prefacing the title text with 'hashtags' \"#\". You can also control text formatting using the text-formatting icons that appear at the top of the text cell when you double-click it to start editing."
      ]
    },
    {
      "cell_type": "markdown",
      "metadata": {
        "id": "qR3IZgOh6BH-"
      },
      "source": [
        "## what about code cells?\n",
        "\n",
        "Text cells are interesting and all, but they provide little more than what you'd get from a simple web page.\n",
        "\n",
        "The real 'magic' of jupyter notebooks comes from the \"code\" cells, which allow you to write, edit and execute Python code in real time.\n",
        "\n",
        "We saw a very simple Python code cell in the first jupyter notebook. It is repeated below this text cell. Clicking on the left-hand side of the code cell executes the code. If the code produces any output (not all code produces output), the output is displayed below the code cell when the code finishes running.\n",
        "\n",
        "Go ahead and run the following 'hello world' code cell. You'll likely get a Warning message stating that this notebook was not created by google; that's fine, run it anyway!\n",
        "\n",
        "You should see the \"hello world!\" output. You might also notice that the upper-right corner of the google colab window has changed! By running a code cell, you have also connected to an online runtime environment - a computer on the internet that is executing your code for you. Now you should see your notebook's RAM and Disk usage displayed in the upper-right corner."
      ]
    },
    {
      "cell_type": "code",
      "metadata": {
        "id": "acNbEhPZ75e8"
      },
      "source": [
        "print('hello world!')"
      ],
      "execution_count": null,
      "outputs": []
    },
    {
      "cell_type": "markdown",
      "metadata": {
        "id": "b2Grdl_k8no3"
      },
      "source": [
        "## plotting linear data\n",
        "\n",
        "Printing \"hello world\" can get pretty boring.\n",
        "\n",
        "The next code cell gets more interesting. Here we are generating some linearly-distributed data points and plotting them as a scatterplot.\n",
        "\n",
        "We will be doing this type of thing a lot in this course. Don't worry if the code doesn't make any sense to you right now; we'll learn how to do this type of thing in detail later on.\n",
        "\n",
        "For now, just run the following code cell to see how you can generate and graph data in real time using jupyter notebooks."
      ]
    },
    {
      "cell_type": "code",
      "metadata": {
        "id": "cAnKQ90y9eCa"
      },
      "source": [
        "import sklearn.datasets\n",
        "import matplotlib.pyplot as plt\n",
        "\n",
        "x,y = sklearn.datasets.make_regression(n_samples=100, n_features=1,\n",
        "                                       n_informative=1, noise=10, \n",
        "                                       coef=False)\n",
        "\n",
        "plt.scatter(x,y, marker='o')"
      ],
      "execution_count": null,
      "outputs": []
    },
    {
      "cell_type": "markdown",
      "metadata": {
        "id": "_d8-qSRZ-o7T"
      },
      "source": [
        "After running the above code cell, you should see a 2-dimensional scatter plot with a bunch of blue dots that fall approximately along a diagonal line. Not too bad for essentially 2 lines of code!\n",
        "\n",
        "If you are curious about what this code cell is doing...\n",
        "\n",
        "The first 2 lines start with the word \"import\"; these lines are loading Python libraries, so you can use the code in those libraries. The \"sklearn.datasets\" library has a function called \"make_regression\" that creates random data for you.\n",
        "\n",
        "The \"matplotlib.pyplot\" library has a \"scatter\" function that produces a scatterplot.\n",
        "\n",
        "If you want to see line numbers in your code cells (hint: you probably do!), click on the gear-shaped icon in the upper-right corner of google colab, right next to your user icon. Select the \"Editor\" tab, click \"Show line numbers\", and then \"Save\". You should now see line numbers in the code cells!\n",
        "\n",
        "Lines 4-6 in the above code cell are actually all part of a single function\n",
        "call to \"make_regression\"; the formatting is for human readability, only. This function call generates the 'random' x,y points and stores them in the \"x\" and \"y\" variables, respectively. \n",
        "\n",
        "Line 8 is the function call that produces the scatterplot from these points.\n",
        "\n",
        "Again, don't worry about digesting all the Python code yet; we'll get to that later on."
      ]
    },
    {
      "cell_type": "markdown",
      "metadata": {
        "id": "x6im7nsLAw-y"
      },
      "source": [
        "## editing code cells\n",
        "\n",
        "So, now you can execute Python code cells from within your jupyter notebook and generate results in real-time, which is cool. But what's cooler is that you can also edit the code and see the results in real-time.\n",
        "\n",
        "Try this with the code cell below, which is just a replica of the linear scatter plot. Try running it once, just to see that it works.\n",
        "\n",
        "Notice that the points aren't exactly the same? That's because the \"make_regression\" function generates 'random' data, which is (potentially) different every time! In fact, you can keep running the code cell over and over, to produce different data.\n",
        "\n",
        "### Let's change how the data are displayed. \n",
        "\n",
        "Edit line 8, below, changing the\n",
        "\n",
        "    marker='o'\n",
        "\n",
        "to\n",
        "\n",
        "    marker='*'\n",
        "\n",
        "and re-run the code cell. Now you have a different type of marker for your data plot."
      ]
    },
    {
      "cell_type": "code",
      "metadata": {
        "id": "inVgtg-bBU9e"
      },
      "source": [
        "import sklearn.datasets\n",
        "import matplotlib.pyplot as plt\n",
        "\n",
        "x,y = sklearn.datasets.make_regression(n_samples=100, n_features=1,\n",
        "                                       n_informative=1, noise=10, \n",
        "                                       coef=False)\n",
        "\n",
        "plt.scatter(x,y, marker='o')"
      ],
      "execution_count": null,
      "outputs": []
    },
    {
      "cell_type": "markdown",
      "metadata": {
        "id": "_zMZZIvWFgKH"
      },
      "source": [
        "## playing with random data generation\n",
        "\n",
        "Remember how we were saying that the \"make_regression\" function generates 'random' data that is not the same each time? Let's confirm this.\n",
        "\n",
        "The code cell below uses the same \"make_regression\" function call as before, but instead of plotting the resulting points, it just prints the x,y coordinates of the first generated point.\n",
        "\n",
        "Try running this code multiple times, to see how the x,y location of the first data point changes each time.\n",
        "\n",
        "Sometimes we want our random data generator to be able to generate the same data more than once. To do this, we can set the \"random_state\" of the \"make_regression\" function call to a specific numerical value.\n",
        "\n",
        "As an example, on line 6 of the code cell below, change the\n",
        "  \n",
        "    coef=False)\n",
        "\n",
        "line to\n",
        "\n",
        "    coef=False, random_state=2021)\n",
        "\n",
        "Adding a \"random_state\" value of \"2021\" to the function call.\n",
        "\n",
        "Try running the code cell multiple times.\n",
        "\n",
        "You should see the same x,y coordinates being printed every time!\n",
        "\n",
        "Keep a note of these x,y values; you will likely need them to answer a quiz question :)"
      ]
    },
    {
      "cell_type": "code",
      "metadata": {
        "id": "7MVrAq7cGDCt"
      },
      "source": [
        "import sklearn.datasets\n",
        "import matplotlib.pyplot as plt\n",
        "\n",
        "x,y = sklearn.datasets.make_regression(n_samples=100, n_features=1,\n",
        "                                       n_informative=1, noise=10, \n",
        "                                       coef=False, random_state=2021)\n",
        "\n",
        "print('x,y = {:.4f},{:.4f}'.format(x[0][0], y[0]))"
      ],
      "execution_count": null,
      "outputs": []
    },
    {
      "cell_type": "markdown",
      "metadata": {
        "id": "439U8LlJHe3B"
      },
      "source": [
        "After you take the quiz for this notebook, make sure you terminate your notebook's runtime session by clicking on the downward-facing arrow in the upper-right corner of google colab, next to the RAM and Disk usage icon. Select \"Manage sessions\" and TERMINATE any sessions you have running."
      ]
    }
  ]
}