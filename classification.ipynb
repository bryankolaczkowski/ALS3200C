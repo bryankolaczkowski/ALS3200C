{
  "nbformat": 4,
  "nbformat_minor": 0,
  "metadata": {
    "colab": {
      "name": "classification.ipynb",
      "provenance": [],
      "authorship_tag": "ABX9TyMpMt9P+wB3yRdml5hKT6GV"
    },
    "kernelspec": {
      "name": "python3",
      "display_name": "Python 3"
    },
    "language_info": {
      "name": "python"
    }
  },
  "cells": [
    {
      "cell_type": "markdown",
      "metadata": {
        "id": "34LKIju5vzj5"
      },
      "source": [
        "# simulating data for classification\n",
        "\n",
        "XX"
      ]
    },
    {
      "cell_type": "code",
      "metadata": {
        "id": "9YQ_sV1IEwkD"
      },
      "source": [
        ""
      ],
      "execution_count": null,
      "outputs": []
    },
    {
      "cell_type": "markdown",
      "metadata": {
        "id": "-4U3ymBGExIw"
      },
      "source": [
        "# binary classification"
      ]
    },
    {
      "cell_type": "code",
      "metadata": {
        "id": "VZB-Ic_OE1WA"
      },
      "source": [
        ""
      ],
      "execution_count": null,
      "outputs": []
    },
    {
      "cell_type": "markdown",
      "metadata": {
        "id": "QuT93h7yE22e"
      },
      "source": [
        "# simulating multi-label classification data"
      ]
    },
    {
      "cell_type": "code",
      "metadata": {
        "id": "V_cAaMuKE59c"
      },
      "source": [
        ""
      ],
      "execution_count": null,
      "outputs": []
    },
    {
      "cell_type": "markdown",
      "metadata": {
        "id": "JNvQoaMYE7MI"
      },
      "source": [
        "# multi-label classification"
      ]
    },
    {
      "cell_type": "code",
      "metadata": {
        "id": "LCGdoschE-ou"
      },
      "source": [
        ""
      ],
      "execution_count": null,
      "outputs": []
    },
    {
      "cell_type": "markdown",
      "metadata": {
        "id": "30l8zpanE_N9"
      },
      "source": [
        "XX"
      ]
    }
  ]
}