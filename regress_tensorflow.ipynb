{
  "nbformat": 4,
  "nbformat_minor": 0,
  "metadata": {
    "colab": {
      "name": "regress_tensorflow.ipynb",
      "provenance": []
    },
    "kernelspec": {
      "display_name": "Python 3",
      "name": "python3"
    },
    "accelerator": "GPU"
  },
  "cells": [
    {
      "cell_type": "markdown",
      "metadata": {
        "id": "YkHC_tXJDOhp"
      },
      "source": [
        "# linear regression in tensorflow\n",
        "\n",
        "In this notebook, you will use tensorflow to fit a linear model to simulated training data.\n",
        "\n",
        "[Tensorflow](https://tensorflow.org) is a high-performance library for doing computations using \"tensors\", which is just a 'technical' term for the same \"n-dimensional arrays\" used by [numpy](https://numpy.org).\n",
        "\n",
        "Technically \"dimension\" is a bit off. Really, we should be thinking about the \"rank\" of the \"array\" or \"tensor\". A \"tensor\" is a mathematical object that has 'magnitude' (a number) in multiple 'directions'. The number of possible simultaneous 'directions' is the tensor's \"rank\".\n",
        "\n",
        "Well, that's pretty abstract, but that's math for you. Let's look at some examples.\n",
        "\n",
        "A simple, regular number (called a \"scalar\") has rank zero. It's 'just a number'; the \"base case\".\n",
        "\n",
        "A \"vector\" has rank one. It can be described as a 'list' of numbers, one for each \"dimension\" in the vector. For example, here's a vector with three dimensions (although it has rank 1!):\n",
        "\n",
        "    [-1.0, 0.0, 2.38]\n",
        "\n",
        "There are 3 numbers (scalars) in the vector, so it's dimension is 3. The following vecor has 4 numbers in it (dimension=4); it's rank is still one, though.\n",
        "\n",
        "    [0.28, 12.51, -13.60, 22.79]\n",
        "\n",
        "And this vector is 1-dimensional:\n",
        "\n",
        "    [0.21]\n",
        "\n",
        "It's also *different* from the scalar value, 0.21, which is a rank-zero entity.\n",
        "\n",
        "Okay, so vectors have rank-1 and can be *any*-dimensional.\n",
        "\n",
        "Matrices have rank two, and they can also be *any*-dimensional. For example, this matrix is 2x2-dimensional:\n",
        "\n",
        "    [ 0.1  0.2 ]\n",
        "    [ 1.9  2.1 ]\n",
        "\n",
        "And this one is 2x3-dimensional (in row-major order):\n",
        "\n",
        "    [ 0.2  0.1  0.0 ]\n",
        "    [ 0.0  0.0  9.3 ]\n",
        "\n",
        "In python, matrices and higher-ranked objects will need to be enclosed in outer-most brackets, like this:\n",
        "\n",
        "    [ [ 0.1  0.2 ]\n",
        "      [ 1.9  2.1 ] ]\n",
        "\n",
        "Which makes it a bit more 'obvious' that the matrix is a 'list' of vectors. Sort of.\n",
        "\n",
        "Once you get \"higher-rank\" than two, there is no 'special' name for the object, so you just call it a \"tensor\". More correctly, a \"vector\" is a \"special name\" for a rank-1 tensor, and a \"matrix\" is a \"special name\" for a rank-2 tensor. Can you guess what \"scalar\" is a \"special name\" for?\n",
        "\n",
        "So, for most of statistics, machine-learning and artificial-intelligence, just about *everything* is just a \"tensor\". The \"tensorflow\" library is just a library that provides super-fast, GPU-accelerated operations on \"tensors\". Because so many things in AI are just operations on tensors, we can use tensorflow to do AI-related things super-fast, which is good for us!"
      ]
    },
    {
      "cell_type": "markdown",
      "metadata": {
        "id": "Hwhic_yeY5Bo"
      },
      "source": [
        "To start using tensorflow, we need to import the tensorflow library. Because we don't like to type a lot of characters (and \"tensorflow\" is a lot of characters), it is common to import tensorflow like this:"
      ]
    },
    {
      "cell_type": "code",
      "metadata": {
        "id": "lIYdn1woOS1n"
      },
      "source": [
        "import tensorflow as tf"
      ],
      "execution_count": 36,
      "outputs": []
    },
    {
      "cell_type": "markdown",
      "metadata": {
        "id": "P7JNO56PTsHQ"
      },
      "source": [
        "Then we can use it like this:"
      ]
    },
    {
      "cell_type": "code",
      "metadata": {
        "id": "sV2_JBjCZHZf",
        "outputId": "c27105f1-8fd0-4b47-d383-353fffb8dd85",
        "colab": {
          "base_uri": "https://localhost:8080/"
        }
      },
      "source": [
        "print(tf.__version__)"
      ],
      "execution_count": 3,
      "outputs": [
        {
          "output_type": "stream",
          "text": [
            "2.5.0\n"
          ],
          "name": "stdout"
        }
      ]
    },
    {
      "cell_type": "markdown",
      "metadata": {
        "id": "C7QnASgfZKOW"
      },
      "source": [
        "If you get a 'name error', remember to run the first code cell, first!\n",
        "\n",
        "Otherwise, you should see the current version of tensorflow, which when I first ran this code, was\n",
        "\n",
        "    2.5.0\n"
      ]
    },
    {
      "cell_type": "markdown",
      "metadata": {
        "id": "33VuTi5BZdJb"
      },
      "source": [
        "## simulating data for tensorflow\n",
        "\n",
        "To fit a linear model in tensorflow, the first thing we need to do is generate some data.\n",
        "\n",
        "Fortunately, we can just use scikit-learn to simulate our x,y training data, and then convert the numpy array from scikit_learn into a \"tensor\" dataset in tensorflow.\n",
        "\n",
        "First, simulate the data using scikit-learn:"
      ]
    },
    {
      "cell_type": "code",
      "metadata": {
        "id": "v77kmIMKcb2Q"
      },
      "source": [
        "import sklearn.datasets\n",
        "\n",
        "x,y = sklearn.datasets.make_regression(n_samples=100,\n",
        "                                       n_features=1,\n",
        "                                       bias=50.0,\n",
        "                                       noise=10.0,\n",
        "                                       random_state=221891)"
      ],
      "execution_count": 37,
      "outputs": []
    },
    {
      "cell_type": "markdown",
      "metadata": {
        "id": "VUgI6KtAc3lx"
      },
      "source": [
        "Provided there is no error, that should have generated 100 x,y sample points.\n",
        "\n",
        "We can plot them, of course:"
      ]
    },
    {
      "cell_type": "code",
      "metadata": {
        "id": "a0bYKQ3HdDTl"
      },
      "source": [
        "import matplotlib.pyplot as plt\n",
        "\n",
        "plt.scatter(x,y, marker='o', s=2)"
      ],
      "execution_count": null,
      "outputs": []
    },
    {
      "cell_type": "markdown",
      "metadata": {
        "id": "jsjDG7dSdVYT"
      },
      "source": [
        "That looks like about 100 x,y coordinates lying approximately on a diagonal line with y-intercept of 100."
      ]
    },
    {
      "cell_type": "markdown",
      "metadata": {
        "id": "HR_33KTndfkr"
      },
      "source": [
        "Now we have our simulated data, but it isn't in a form that tensorflow can use. We need to 'convert' our simulated data from a numpy array to a tensorflow dataset.\n",
        "\n",
        "Fortunately, there is a tensorflow function that does exactly what we want!\n",
        "\n",
        "A data set in tensorflow is encapsulated as a \"tensorflow.data.Dataset\" object. Tensorflow is what's called an \"object oriented\" library, which just means that it uses a programming concept called an \"object\", which is just about as abstract a thing that you can have, even for a programming language.\n",
        "\n",
        "An \"object\" in computer programming is a conceptual block of code that consists of data and operations (called \"methods\") that can be done on the data. A \"Dataset\" in tensorflow is an object that consists of \"data\" and \"methods\" that can be executed on the data.\n",
        "\n",
        "Fortunately for us, unless we need to write our own new objects (we won't in this class!), we don't need to worry *too much* about what objects in tensorflow are. We just need to know how to use them!\n",
        "\n",
        "To create a Dataset in tensorflow, we just need to use the \"static method\" called \"from_tensor_slices\". A \"static method\" is technically a method that is called on the object's \"class\", without actually creating an object! But again, we don't need to really *understand* the technicalities of object-oriented programming in order to use it!"
      ]
    },
    {
      "cell_type": "code",
      "metadata": {
        "id": "uI8IRGQxfXDJ"
      },
      "source": [
        "data = tf.data.Dataset.from_tensor_slices((x,y))"
      ],
      "execution_count": 39,
      "outputs": []
    },
    {
      "cell_type": "markdown",
      "metadata": {
        "id": "84xWw8slfdWA"
      },
      "source": [
        "Provided there are no errors, we now have a tensorflow \"Dataset\" object stored in the \"data\" variable. The Dataset consists of our simulated x,y pairs.\n",
        "\n",
        "A tensorflow Dataset object is *not* very useful *to us*. We can't plot it or print it or easily extract or add elements to it. All these things are *much* easier to do using numpy arrays.\n",
        "\n",
        "But that tensorflow Dataset object is *very* usefult *to tensorflow*. Packaging our data as a tensorflow Dataset object will allow the tensorflow to *efficiently* use our data to train AI systems. It also makes coding the AI-training process *much* easier (for us!). So, we pay a little bit of up-front headache packaging our numpy data into a tensorflow Dataset object, but it's a 'win-win' in the long-run.\n",
        "\n",
        "The take-home from the previous code-block is that we can create a tensorflow Dataset object by using the static method:\n",
        "\n",
        "    tf.data.Dataset.from_tensor_slices(INPUT)\n",
        "\n",
        "where we replace \"INPUT\" with our own data, wherever it came from. In our case, our simulated x,y pairs were stored in the \"x\" and \"y\" variables, respectively. We created the INPUT parameter by 'packing' x and y into a python \"tuple\", using the \"(\" and \")\" symbols (open- and close-parenthesis, respectively).\n",
        "\n",
        "A python \"tuple\" is an ordered list of items, which is immutable (cannot be changed) after its creation. If we have python variables \"x\" and \"y\", we can create a \"tuple\" holding x,y pairs with the python syntax:\n",
        "\n",
        "    (x,y)\n",
        "\n",
        "which is the INPUT to the from_tensor_slices method.\n",
        "\n",
        "We stored our tensorflow Dataset in the variable \"data\", so we can use it later."
      ]
    },
    {
      "cell_type": "markdown",
      "metadata": {
        "id": "hzq87ga0mg8O"
      },
      "source": [
        "## tensorflow linear model\n",
        "\n",
        "We have simulated our training data and packaged it for tensorflow. The next thing we need is a linear model.\n",
        "\n",
        "Well, a neural network can quite easily be used to implement a linear model.\n",
        "\n",
        "In fact, we know that *any* neural network lacking non-linear activations is just a linear model!\n",
        "\n",
        "But why 'waste' model parameters; we'll go with the *simplest* neural network that is a linear model, which is just a single-neuron with linear activation (ie, no non-linear activation).\n",
        "\n",
        "Even though this *particular* network is very simple, the *exact same* procedure is used to build *any* neural network in tensorflow (at least approximately; some really odd models require you to build your own objects, but these are pretty rare cases). Once you get the basic procedure down, you can use the same procedure to generate *very* complex state-of-the-art models.\n",
        "\n",
        "The approach we'll use to build our neural network models is based on the \"Keras\" application programming interface (API, a specification for communicating information across programs). Basically, the \"Keras API\" specifies how to create and use neural network models, and the implimentation of that \"interface\" is entirely up to you.\n",
        "\n",
        "Tensorflow has implemented the Keras API, so we can use that API to create and train our model, and tensorflow will take care of the rest!\n",
        "\n",
        "The simplest type of neural network is a simple \"feed-forward\" model, in which information proceeds sequentially through each layer in the model. Interestingly, a *large number* of existing neural network models are 'just' sequential models using simple building blocks. Even more 'cutting edge' architectures that use multiple complex data branches and joins (like \"residual\" or \"dense\" architectures, as well as U-shaped networks used in various fields) can be implemented as sequential models of more complex computations (using custom sub-classes to create new objects). The take-home message here is that sequential models (although 'simple'), actually account for at least 90% of all neural network architectures. It *may* be that *any* neural network could be encoded sequentially; can any directed acyclic graph be embedded in a linear sequence? I'll leave that math for those better than I, though :)\n",
        "\n",
        "For our purposes, we can implement *a lot* of *very* complex models using the Keras Sequential framework.\n",
        "\n",
        "So, let's build a Sequential model using Keras in tensorflow..."
      ]
    },
    {
      "cell_type": "code",
      "metadata": {
        "id": "x1AqFDhTqYom"
      },
      "source": [
        "model = tf.keras.models.Sequential()"
      ],
      "execution_count": 40,
      "outputs": []
    },
    {
      "cell_type": "markdown",
      "metadata": {
        "id": "Vrh2asSuqdDY"
      },
      "source": [
        "whew... that's some heavy-lifting! :)\n",
        "\n",
        "That one line of python code created a new sequential model.\n",
        "\n",
        "Unfortunately... that model is \"empty\". There's \"nothing\" in it, at all. No computation. No data. nothing. kinda sad... empty... model...\n",
        "\n",
        "So, let's create a linear model and put it in our model as the first layer.\n",
        "\n",
        "We'll use a Keras \"Layer\" object to implement our linear model. A \"Layer\" in Keras implents a neural network \"layer\"; a collection of neurons all connected to the same inputs. Layers can be as complex as you'd like, and there are many 'advanced' neuron types that do fairly complex operations. All of these 'advanced' neurons are built on smaller components, which are built using smaller components... which are implemented using linear models (combined with non-linear activations). Once we really 'understand' the simplest case, we can use the same code to run much more complex models, just by 'swapping in' a different type of \"Layer\" object.\n",
        "\n",
        "But all we need *now* is a simple linear model, so we can use the Keras \"Dense\" Layer. The \"Dense\" layer implements a 'densely connected' neural network layer. The Dense layer can consist of *any number* of neurons, each of which will be connected to *all* the layer's inputs. Each input has a \"weight\" (trainable parameter) and (optionally) a \"bias\". Each neuron accepts *all* the inputs and returns the linear-sum of the weighted input values, plus the bias term. All weights and biases (one for each neuron in the Layer) are trainable parameters of the model.\n",
        "\n",
        "That sounds pretty complicated, but if we use a layer having only 1 neuron, we know a single neuron is just a simple linear model, so we have our linear model implementation as a single-neuron Dense Layer Sequential Model. If we want to make the model more complex, we can add more neurons in the Dense layer - this would create a multi-linear model (multiple ys fit to the same xs), but we don't need that for our problem.\n",
        "\n",
        "Let's build the network layer and add it to our model, implementing the linear model in tensorflow."
      ]
    },
    {
      "cell_type": "code",
      "metadata": {
        "id": "K9yxkoQXtaR0"
      },
      "source": [
        "model = tf.keras.models.Sequential()\n",
        "model.add(tf.keras.layers.Dense(units=1, input_shape=[1]))"
      ],
      "execution_count": 41,
      "outputs": []
    },
    {
      "cell_type": "markdown",
      "metadata": {
        "id": "ca5Bb_c2tu9n"
      },
      "source": [
        "Line 1 is just reproduced from the code cell above, so we don't end up inadvertently adding multiple layers to our model. It just creates an empty sequential model.\n",
        "\n",
        "Line 2 implements the simple linear model.\n",
        "\n",
        "We're actually doing three things here.\n",
        "\n",
        "1.  implementing a simple linear model in 1 dimension using a \"Dense\" neural network layer with 1 neuron.\n",
        "2.  adding the linear model to our sequential model, so we can fit it to data later on.\n",
        "3.  specifying the rank and dimensionality of the input tensor, so tensorflow knows how to build the model.\n",
        "\n",
        "To implement the single-neuron Dense layer (ie, 'simple linear model'), we specify the \"units=1\" option to the \"tf.keras.layers.Dense(...)\" constructor, telling it we want a single neuron layer. If we wanted 2 neurons, we could specify\n",
        "\n",
        "    units=2\n",
        "\n",
        "or any number we'd wish, but for now we just want a simple linear model.\n",
        "\n",
        "You can edit *any* of these code cells, so you can feel free to play around if you are interested. In many cases, 'tinkering' with neural networks in this way will 'work' out-of-the-box (meaning they will calculate and not cause an error); whether the model is actually *useful* for anything...\n",
        "\n",
        "In any case, you can always pull a 'fresh' jupyter notebook from the github repository (clicking directly on the link to the notebook from the course website *should* give you a fresh notebook; if you want to save your notebook for your personal use, you can save it as a copy to your google drive (howto is [here](https://bryankolaczkowski.github.io/lessons/jupyter_colab_workflow.html)). \n",
        "\n",
        "But for now, we don't need a multi-linear model, so we'll just stick with\n",
        "\n",
        "    units=1\n",
        "\n",
        "to implement a simple linear model.\n",
        "\n",
        "The code\n",
        "\n",
        "    model.add(...)\n",
        "\n",
        "adds the new Dense layer to the model, which was previously an empty model. If you wanted another layer, you could just execute another call to\n",
        "\n",
        "    model.add(...)\n",
        "\n",
        "with a different layer specification. But for now we only need 1 layer, so we don't need to call \"model.add\" again.\n",
        "\n",
        "Finally, we need to specify 'the rank and dimesionality of the input tensor'. That sounds like it could trip us up. Thankfully, the 'syntax' is pretty simple, especially in our case. We have 1-dimensional data; one input scalar \"x\" is mapped to one output scalar \"y\". We specify this 'shape' as\n",
        "\n",
        "    [1]\n",
        "\n",
        "to tell the tensorflow model to be built in 1 dimension (\"1\"), with input tensors of rank 1 (because there is a single value between \"[\", and \"]\"). We'll need more complex input shapes later on, when we work with multi-dimensional and multi-rank predictors, but for now the input specification is pretty simple.\n",
        "\n",
        "We specify the shape of the input data using the\n",
        "\n",
        "    input_shape=INPUT\n",
        "\n",
        "option, when we create the *first* layer in our network. There are alternative ways to specify the input shape, but this is convenient in most cases.\n",
        "\n",
        "In our case, we set input_shape equal to the data specification of our simple linear model in 1 dimension.\n",
        "\n",
        "    input_shape=[1]"
      ]
    },
    {
      "cell_type": "markdown",
      "metadata": {
        "id": "vWDMqfmQ4XTn"
      },
      "source": [
        "Now that our simple linear model is built, we can 'see' it using the model's \"summary\" method:"
      ]
    },
    {
      "cell_type": "code",
      "metadata": {
        "id": "PKRxfBXc4fuQ",
        "outputId": "f17eb240-5973-47fc-dc42-90260f4ea843",
        "colab": {
          "base_uri": "https://localhost:8080/"
        }
      },
      "source": [
        "model.summary()"
      ],
      "execution_count": 42,
      "outputs": [
        {
          "output_type": "stream",
          "text": [
            "Model: \"sequential_8\"\n",
            "_________________________________________________________________\n",
            "Layer (type)                 Output Shape              Param #   \n",
            "=================================================================\n",
            "dense_6 (Dense)              (None, 1)                 2         \n",
            "=================================================================\n",
            "Total params: 2\n",
            "Trainable params: 2\n",
            "Non-trainable params: 0\n",
            "_________________________________________________________________\n"
          ],
          "name": "stdout"
        }
      ]
    },
    {
      "cell_type": "markdown",
      "metadata": {
        "id": "Aqv1DMa6w1Xu"
      },
      "source": [
        "## create the loss function\n",
        "\n",
        "Our neural network needs something to optimze, so it can fit the model's parameters to the training data.\n",
        "\n",
        "XXHEREXX\n",
        "\n",
        "1. specify loss function\n",
        "2. specify optimizer\n",
        "3. create training data set from simulated data - concept of batching and training epochs\n",
        "4. train model (ie, fit model to data over multiple epochs)\n",
        "5. see loss function (MSE) going down, but it is slow... let's switch to GPU acceleration.\n",
        "6. model is 'fit'; let's use it to predict y values for our simulated x values, and print the y_hat values against y_true, to 'see' how well fit our model is\n",
        "7. take-home messages and discussion"
      ]
    },
    {
      "cell_type": "code",
      "metadata": {
        "id": "cWamQYsP6DkD",
        "outputId": "bfa2388b-93de-4288-cd26-c939247c3c46",
        "colab": {
          "base_uri": "https://localhost:8080/"
        }
      },
      "source": [
        "model.compile(optimizer=tf.keras.optimizers.SGD(),\n",
        "              loss=tf.keras.losses.MeanSquaredError())\n",
        "\n",
        "data = data.batch(10)\n",
        "model.fit(data, epochs=100)\n"
      ],
      "execution_count": 35,
      "outputs": [
        {
          "output_type": "stream",
          "text": [
            "Epoch 1/100\n",
            "WARNING:tensorflow:Model was constructed with shape (None, 1) for input KerasTensor(type_spec=TensorSpec(shape=(None, 1), dtype=tf.float32, name='dense_5_input'), name='dense_5_input', description=\"created by layer 'dense_5_input'\"), but it was called on an input with incompatible shape (None, None, None, None, None, None, None, None, None, None, None, None, 1).\n",
            "WARNING:tensorflow:Model was constructed with shape (None, 1) for input KerasTensor(type_spec=TensorSpec(shape=(None, 1), dtype=tf.float32, name='dense_5_input'), name='dense_5_input', description=\"created by layer 'dense_5_input'\"), but it was called on an input with incompatible shape (None, None, None, None, None, None, None, None, None, None, None, None, 1).\n",
            "1/1 [==============================] - 0s 224ms/step - loss: 6817.1758\n",
            "Epoch 2/100\n",
            "1/1 [==============================] - 0s 5ms/step - loss: 6529.1885\n",
            "Epoch 3/100\n",
            "1/1 [==============================] - 0s 6ms/step - loss: 6253.7710\n",
            "Epoch 4/100\n",
            "1/1 [==============================] - 0s 4ms/step - loss: 5990.3701\n",
            "Epoch 5/100\n",
            "1/1 [==============================] - 0s 6ms/step - loss: 5738.4546\n",
            "Epoch 6/100\n",
            "1/1 [==============================] - 0s 6ms/step - loss: 5497.5205\n",
            "Epoch 7/100\n",
            "1/1 [==============================] - 0s 8ms/step - loss: 5267.0830\n",
            "Epoch 8/100\n",
            "1/1 [==============================] - 0s 5ms/step - loss: 5046.6797\n",
            "Epoch 9/100\n",
            "1/1 [==============================] - 0s 3ms/step - loss: 4835.8696\n",
            "Epoch 10/100\n",
            "1/1 [==============================] - 0s 4ms/step - loss: 4634.2295\n",
            "Epoch 11/100\n",
            "1/1 [==============================] - 0s 7ms/step - loss: 4441.3574\n",
            "Epoch 12/100\n",
            "1/1 [==============================] - 0s 4ms/step - loss: 4256.8652\n",
            "Epoch 13/100\n",
            "1/1 [==============================] - 0s 7ms/step - loss: 4080.3867\n",
            "Epoch 14/100\n",
            "1/1 [==============================] - 0s 5ms/step - loss: 3911.5688\n",
            "Epoch 15/100\n",
            "1/1 [==============================] - 0s 4ms/step - loss: 3750.0742\n",
            "Epoch 16/100\n",
            "1/1 [==============================] - 0s 7ms/step - loss: 3595.5820\n",
            "Epoch 17/100\n",
            "1/1 [==============================] - 0s 4ms/step - loss: 3447.7839\n",
            "Epoch 18/100\n",
            "1/1 [==============================] - 0s 4ms/step - loss: 3306.3872\n",
            "Epoch 19/100\n",
            "1/1 [==============================] - 0s 13ms/step - loss: 3171.1101\n",
            "Epoch 20/100\n",
            "1/1 [==============================] - 0s 9ms/step - loss: 3041.6841\n",
            "Epoch 21/100\n",
            "1/1 [==============================] - 0s 4ms/step - loss: 2917.8528\n",
            "Epoch 22/100\n",
            "1/1 [==============================] - 0s 4ms/step - loss: 2799.3706\n",
            "Epoch 23/100\n",
            "1/1 [==============================] - 0s 4ms/step - loss: 2686.0034\n",
            "Epoch 24/100\n",
            "1/1 [==============================] - 0s 4ms/step - loss: 2577.5276\n",
            "Epoch 25/100\n",
            "1/1 [==============================] - 0s 4ms/step - loss: 2473.7278\n",
            "Epoch 26/100\n",
            "1/1 [==============================] - 0s 6ms/step - loss: 2374.4006\n",
            "Epoch 27/100\n",
            "1/1 [==============================] - 0s 4ms/step - loss: 2279.3494\n",
            "Epoch 28/100\n",
            "1/1 [==============================] - 0s 6ms/step - loss: 2188.3875\n",
            "Epoch 29/100\n",
            "1/1 [==============================] - 0s 4ms/step - loss: 2101.3362\n",
            "Epoch 30/100\n",
            "1/1 [==============================] - 0s 6ms/step - loss: 2018.0242\n",
            "Epoch 31/100\n",
            "1/1 [==============================] - 0s 6ms/step - loss: 1938.2885\n",
            "Epoch 32/100\n",
            "1/1 [==============================] - 0s 4ms/step - loss: 1861.9733\n",
            "Epoch 33/100\n",
            "1/1 [==============================] - 0s 4ms/step - loss: 1788.9285\n",
            "Epoch 34/100\n",
            "1/1 [==============================] - 0s 6ms/step - loss: 1719.0120\n",
            "Epoch 35/100\n",
            "1/1 [==============================] - 0s 6ms/step - loss: 1652.0872\n",
            "Epoch 36/100\n",
            "1/1 [==============================] - 0s 7ms/step - loss: 1588.0237\n",
            "Epoch 37/100\n",
            "1/1 [==============================] - 0s 3ms/step - loss: 1526.6968\n",
            "Epoch 38/100\n",
            "1/1 [==============================] - 0s 6ms/step - loss: 1467.9875\n",
            "Epoch 39/100\n",
            "1/1 [==============================] - 0s 8ms/step - loss: 1411.7820\n",
            "Epoch 40/100\n",
            "1/1 [==============================] - 0s 9ms/step - loss: 1357.9712\n",
            "Epoch 41/100\n",
            "1/1 [==============================] - 0s 8ms/step - loss: 1306.4509\n",
            "Epoch 42/100\n",
            "1/1 [==============================] - 0s 5ms/step - loss: 1257.1218\n",
            "Epoch 43/100\n",
            "1/1 [==============================] - 0s 6ms/step - loss: 1209.8889\n",
            "Epoch 44/100\n",
            "1/1 [==============================] - 0s 6ms/step - loss: 1164.6609\n",
            "Epoch 45/100\n",
            "1/1 [==============================] - 0s 7ms/step - loss: 1121.3510\n",
            "Epoch 46/100\n",
            "1/1 [==============================] - 0s 3ms/step - loss: 1079.8759\n",
            "Epoch 47/100\n",
            "1/1 [==============================] - 0s 5ms/step - loss: 1040.1559\n",
            "Epoch 48/100\n",
            "1/1 [==============================] - 0s 4ms/step - loss: 1002.1154\n",
            "Epoch 49/100\n",
            "1/1 [==============================] - 0s 5ms/step - loss: 965.6818\n",
            "Epoch 50/100\n",
            "1/1 [==============================] - 0s 4ms/step - loss: 930.7850\n",
            "Epoch 51/100\n",
            "1/1 [==============================] - 0s 6ms/step - loss: 897.3594\n",
            "Epoch 52/100\n",
            "1/1 [==============================] - 0s 7ms/step - loss: 865.3410\n",
            "Epoch 53/100\n",
            "1/1 [==============================] - 0s 6ms/step - loss: 834.6691\n",
            "Epoch 54/100\n",
            "1/1 [==============================] - 0s 4ms/step - loss: 805.2856\n",
            "Epoch 55/100\n",
            "1/1 [==============================] - 0s 4ms/step - loss: 777.1349\n",
            "Epoch 56/100\n",
            "1/1 [==============================] - 0s 5ms/step - loss: 750.1642\n",
            "Epoch 57/100\n",
            "1/1 [==============================] - 0s 4ms/step - loss: 724.3224\n",
            "Epoch 58/100\n",
            "1/1 [==============================] - 0s 5ms/step - loss: 699.5609\n",
            "Epoch 59/100\n",
            "1/1 [==============================] - 0s 11ms/step - loss: 675.8335\n",
            "Epoch 60/100\n",
            "1/1 [==============================] - 0s 6ms/step - loss: 653.0958\n",
            "Epoch 61/100\n",
            "1/1 [==============================] - 0s 4ms/step - loss: 631.3051\n",
            "Epoch 62/100\n",
            "1/1 [==============================] - 0s 6ms/step - loss: 610.4210\n",
            "Epoch 63/100\n",
            "1/1 [==============================] - 0s 4ms/step - loss: 590.4045\n",
            "Epoch 64/100\n",
            "1/1 [==============================] - 0s 6ms/step - loss: 571.2186\n",
            "Epoch 65/100\n",
            "1/1 [==============================] - 0s 6ms/step - loss: 552.8276\n",
            "Epoch 66/100\n",
            "1/1 [==============================] - 0s 4ms/step - loss: 535.1976\n",
            "Epoch 67/100\n",
            "1/1 [==============================] - 0s 5ms/step - loss: 518.2963\n",
            "Epoch 68/100\n",
            "1/1 [==============================] - 0s 7ms/step - loss: 502.0922\n",
            "Epoch 69/100\n",
            "1/1 [==============================] - 0s 4ms/step - loss: 486.5558\n",
            "Epoch 70/100\n",
            "1/1 [==============================] - 0s 4ms/step - loss: 471.6588\n",
            "Epoch 71/100\n",
            "1/1 [==============================] - 0s 5ms/step - loss: 457.3738\n",
            "Epoch 72/100\n",
            "1/1 [==============================] - 0s 6ms/step - loss: 443.6748\n",
            "Epoch 73/100\n",
            "1/1 [==============================] - 0s 5ms/step - loss: 430.5369\n",
            "Epoch 74/100\n",
            "1/1 [==============================] - 0s 5ms/step - loss: 417.9363\n",
            "Epoch 75/100\n",
            "1/1 [==============================] - 0s 4ms/step - loss: 405.8502\n",
            "Epoch 76/100\n",
            "1/1 [==============================] - 0s 9ms/step - loss: 394.2569\n",
            "Epoch 77/100\n",
            "1/1 [==============================] - 0s 6ms/step - loss: 383.1354\n",
            "Epoch 78/100\n",
            "1/1 [==============================] - 0s 4ms/step - loss: 372.4660\n",
            "Epoch 79/100\n",
            "1/1 [==============================] - 0s 3ms/step - loss: 362.2294\n",
            "Epoch 80/100\n",
            "1/1 [==============================] - 0s 5ms/step - loss: 352.4074\n",
            "Epoch 81/100\n",
            "1/1 [==============================] - 0s 6ms/step - loss: 342.9825\n",
            "Epoch 82/100\n",
            "1/1 [==============================] - 0s 7ms/step - loss: 333.9381\n",
            "Epoch 83/100\n",
            "1/1 [==============================] - 0s 7ms/step - loss: 325.2581\n",
            "Epoch 84/100\n",
            "1/1 [==============================] - 0s 5ms/step - loss: 316.9272\n",
            "Epoch 85/100\n",
            "1/1 [==============================] - 0s 5ms/step - loss: 308.9308\n",
            "Epoch 86/100\n",
            "1/1 [==============================] - 0s 5ms/step - loss: 301.2549\n",
            "Epoch 87/100\n",
            "1/1 [==============================] - 0s 4ms/step - loss: 293.8860\n",
            "Epoch 88/100\n",
            "1/1 [==============================] - 0s 4ms/step - loss: 286.8113\n",
            "Epoch 89/100\n",
            "1/1 [==============================] - 0s 4ms/step - loss: 280.0186\n",
            "Epoch 90/100\n",
            "1/1 [==============================] - 0s 6ms/step - loss: 273.4959\n",
            "Epoch 91/100\n",
            "1/1 [==============================] - 0s 3ms/step - loss: 267.2323\n",
            "Epoch 92/100\n",
            "1/1 [==============================] - 0s 5ms/step - loss: 261.2168\n",
            "Epoch 93/100\n",
            "1/1 [==============================] - 0s 5ms/step - loss: 255.4392\n",
            "Epoch 94/100\n",
            "1/1 [==============================] - 0s 9ms/step - loss: 249.8896\n",
            "Epoch 95/100\n",
            "1/1 [==============================] - 0s 6ms/step - loss: 244.5585\n",
            "Epoch 96/100\n",
            "1/1 [==============================] - 0s 4ms/step - loss: 239.4370\n",
            "Epoch 97/100\n",
            "1/1 [==============================] - 0s 10ms/step - loss: 234.5163\n",
            "Epoch 98/100\n",
            "1/1 [==============================] - 0s 5ms/step - loss: 229.7881\n",
            "Epoch 99/100\n",
            "1/1 [==============================] - 0s 4ms/step - loss: 225.2446\n",
            "Epoch 100/100\n",
            "1/1 [==============================] - 0s 4ms/step - loss: 220.8782\n"
          ],
          "name": "stdout"
        },
        {
          "output_type": "execute_result",
          "data": {
            "text/plain": [
              "<tensorflow.python.keras.callbacks.History at 0x7fbce60f9650>"
            ]
          },
          "metadata": {
            "tags": []
          },
          "execution_count": 35
        }
      ]
    }
  ]
}