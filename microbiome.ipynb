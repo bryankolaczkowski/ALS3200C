{
  "nbformat": 4,
  "nbformat_minor": 0,
  "metadata": {
    "colab": {
      "name": "microbiome.ipynb",
      "provenance": [],
      "authorship_tag": "ABX9TyM5A6wdNmkfcvPTpDEIpKiu"
    },
    "kernelspec": {
      "name": "python3",
      "display_name": "Python 3"
    },
    "language_info": {
      "name": "python"
    }
  },
  "cells": [
    {
      "cell_type": "markdown",
      "metadata": {
        "id": "Mc5xkI2hXrwh"
      },
      "source": [
        "# microbial community disease risk prediction\n",
        "\n",
        "In this case study, we'll develop a neural network to predict disease risk from microbial community sequence data.\n",
        "\n",
        "We have 16S rDNA sequence data from 16,344 samples, roughly half of which are from individuals who have been diagnosed with type 1 diabetes (aka, \"cases\"), and half of which are from individuals who do not have type 1 diabetes (\"controls\").\n",
        "\n",
        "The data are available in a github repository as a comma-separated values (.csv) file. So, we can use the pandas library to downoad the sequence data and associated disease-state labels to a pandas dataframe:"
      ]
    },
    {
      "cell_type": "code",
      "metadata": {
        "id": "alDR3GTbXqOw"
      },
      "source": [
        "import pandas\n",
        "dataframe = pandas.read_csv('https://raw.githubusercontent.com/bryankolaczkowski/ALS3200C/main/mbiome.data.csv')\n",
        "dataframe.head()"
      ],
      "execution_count": null,
      "outputs": []
    },
    {
      "cell_type": "markdown",
      "metadata": {
        "id": "mlKLWh5rXq9g"
      },
      "source": [
        "There are 256 \"DTA\" columns, lebelled DTA0, ..., DTA255. Each of these DTA columns represents a particular bacterial \"species\" found in the samples. The 'relative abundance' of each species in each sample (row) is reported. Relative abundance values have been center log-rato transformed, which is a common method used to 'normalize' microbial relative abundance data.\n",
        "\n",
        "In a typical analysis of 16S rDNA sequence data, the 'relative abundance' of each sequence in the sample is given as the *number* of sequence reads matching that sequence in the sample. One *could* divide each sequence count by the total number of counts in that sample, which would produce a typical 'relative abundance' value between 0.0 (not found in the sample) and 1.0 (the *only* sequence found in the sample).\n",
        "\n",
        "However, it's more common to perform some sort of log-ratio transform of the sequence count data. Log-ratio transforms have a couple of advantages over the 'frequency transform' above. First, putting numbers on a log scale often makes them more 'normally distributed', which typically provides a better fit to the assumptions of most statistical models. Second, the log scale can be 'centered' at zero, with positive and negative values indicating deviations from the 'average' value of zero; this 'centering' often leads to better results from machine-learning and neural-network models.\n",
        "\n",
        "The center log-ratio transform is simple to calculate and is commonly used for microbial community sequence projects. One simply divides each sequence's count by the *geometric* mean of the total counts over all sequences in the sample, and then takes the logarithm of this 'ratio'.\n",
        "\n",
        "These data have already been center log-ratio transformed, and you can see that the values typically range between about +2.5 and -2.5.\n",
        "\n",
        "The final column in the data file, labelled \"LBL0\" is the 'disease state' indicator (the label we'd like to predict), with 0 indicating a 'control' individual with no type 1 diabetes diagnosis, and 1 indicating a 'case' individual who has been diagnosed with type 1 diabetes.\n",
        "\n",
        "Our goal is to predict the LBL0 classification, given the microbial sequence information in columns DTA0, ..., DTA255.\n",
        "\n",
        "First, let's split our data into training and validation subsets, and extract the explanatory variables and labels.\n",
        "\n",
        "Much of the following code cell should look familiar. Given the pandas dataframe, we first sample 80% of the data for training, and leave the remaining 20% for validation.\n",
        "\n",
        "Next, we extract the columns starting with \"DTA\" as the explanatory variables. In this case, we need to 'expand' the data dimension, so we can model these data using a tensorflow sequence model (like a Conv1D or LSTM model).\n",
        "\n",
        "Finally, we extract the LBL0 entries as our binary class labels."
      ]
    },
    {
      "cell_type": "code",
      "metadata": {
        "id": "XVTUJdVQYDkv"
      },
      "source": [
        "import numpy as np\n",
        "\n",
        "# create train-validate split\n",
        "train_dataframe = dataframe.sample(frac=0.8, random_state=2100963)\n",
        "valid_dataframe = dataframe.drop(train_dataframe.index)\n",
        "print(train_dataframe.shape, valid_dataframe.shape, dataframe.shape)\n",
        "\n",
        "# extract explanatory variables\n",
        "dta_ids = [ x for x in dataframe.columns if x.find('DTA') == 0 ]\n",
        "train_x = np.expand_dims(train_dataframe[dta_ids].to_numpy(), axis=-1)\n",
        "valid_x = np.expand_dims(valid_dataframe[dta_ids].to_numpy(), axis=-1)\n",
        "print(train_x.shape, valid_x.shape)\n",
        "\n",
        "# extract labels\n",
        "train_y = train_dataframe['LBL0'].to_numpy()\n",
        "valid_y = valid_dataframe['LBL0'].to_numpy()\n",
        "print(train_y.shape, valid_y.shape)"
      ],
      "execution_count": null,
      "outputs": []
    },
    {
      "cell_type": "markdown",
      "metadata": {
        "id": "a8CPzypUY4TL"
      },
      "source": [
        "We can see that there are 16,344 total samples in our dataframe. We've extracted 13,057 for training and 3,269 for validation.\n",
        "\n",
        "After expanding the data dimension, we have explanatory variables of shape (256,1), a one-dimensional sequence of 256 bacterial 'species'."
      ]
    },
    {
      "cell_type": "markdown",
      "metadata": {
        "id": "zYabR-E7fsni"
      },
      "source": [
        "XX"
      ]
    }
  ]
}