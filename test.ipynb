{
  "nbformat": 4,
  "nbformat_minor": 0,
  "metadata": {
    "kernelspec": {
      "display_name": "Python 3",
      "language": "python",
      "name": "python3"
    },
    "language_info": {
      "codemirror_mode": {
        "name": "ipython",
        "version": 3
      },
      "file_extension": ".py",
      "mimetype": "text/x-python",
      "name": "python",
      "nbconvert_exporter": "python",
      "pygments_lexer": "ipython3",
      "version": "3.8.5"
    },
    "colab": {
      "name": "test.ipynb",
      "provenance": []
    }
  },
  "cells": [
    {
      "cell_type": "markdown",
      "metadata": {
        "id": "dLhB_G2uNBQw"
      },
      "source": [
        "# Title 1\n",
        "\n",
        "## title 2\n",
        "\n",
        "this is introductory material here...\n",
        "hi there\n"
      ]
    },
    {
      "cell_type": "code",
      "metadata": {
        "id": "MzP6xbWSNBQy"
      },
      "source": [
        "import numpy as np"
      ],
      "execution_count": null,
      "outputs": []
    },
    {
      "cell_type": "code",
      "metadata": {
        "id": "09DK1op3NBQz"
      },
      "source": [
        "x = np.array([1,2,3,4,5])\n",
        "x + 13.5"
      ],
      "execution_count": null,
      "outputs": []
    },
    {
      "cell_type": "markdown",
      "metadata": {
        "id": "06p_RxD1NBQ1"
      },
      "source": [
        "Foobar paragraph is here\n",
        "more and more and more stuff.\n",
        "text.\n"
      ]
    },
    {
      "cell_type": "code",
      "metadata": {
        "id": "H-JAXwPTNBQ2"
      },
      "source": [
        "import modeller\n",
        "import matplotlib"
      ],
      "execution_count": null,
      "outputs": []
    },
    {
      "cell_type": "code",
      "metadata": {
        "id": "Ti2bWQr-NBQ3"
      },
      "source": [
        "import tensorflow as tf"
      ],
      "execution_count": null,
      "outputs": []
    },
    {
      "cell_type": "code",
      "metadata": {
        "id": "g5WLryWgNBQ3"
      },
      "source": [
        "from IPython.display import HTML\n",
        "from IPython.display import display\n",
        "\n",
        "# Taken from https://stackoverflow.com/questions/31517194/how-to-hide-one-specific-cell-input-or-output-in-ipython-notebook\n",
        "tag = HTML('''<script>\n",
        "code_show=true; \n",
        "function code_toggle() {\n",
        "    if (code_show){\n",
        "        $('div.cell.code_cell.rendered.selected div.input').hide();\n",
        "    } else {\n",
        "        $('div.cell.code_cell.rendered.selected div.input').show();\n",
        "    }\n",
        "    code_show = !code_show\n",
        "} \n",
        "$( document ).ready(code_toggle);\n",
        "</script>\n",
        "To show/hide this cell's raw code input, click <a href=\"javascript:code_toggle()\">here</a>.''')\n",
        "display(tag)\n",
        "\n",
        "############### Write code below ##################\n",
        "%matplotlib inline\n",
        "import matplotlib\n",
        "import matplotlib.pyplot as plt\n",
        "import numpy as np\n",
        "\n",
        "# Data for plotting\n",
        "t = np.arange(0.0, 2.0, 0.01)\n",
        "s = 1 + np.sin(2 * np.pi * t)\n",
        "\n",
        "fig, ax = plt.subplots()\n",
        "ax.plot(t, s)\n",
        "\n",
        "ax.set(xlabel='time (s)', ylabel='voltage (mV)',\n",
        "       title='About as simple as it gets, folks')\n",
        "ax.grid()\n",
        "\n",
        "plt.show()"
      ],
      "execution_count": null,
      "outputs": []
    },
    {
      "cell_type": "code",
      "metadata": {
        "id": "8ngJic3XNBQ4"
      },
      "source": [
        "print('hello')"
      ],
      "execution_count": null,
      "outputs": []
    },
    {
      "cell_type": "code",
      "metadata": {
        "id": "0-k8pbLoNBQ6"
      },
      "source": [
        "import pandas\n"
      ],
      "execution_count": null,
      "outputs": []
    },
    {
      "cell_type": "code",
      "metadata": {
        "id": "xer7_kh_NBQ7"
      },
      "source": [
        "import sklearn\n"
      ],
      "execution_count": null,
      "outputs": []
    },
    {
      "cell_type": "code",
      "metadata": {
        "id": "pzlW76MDNBQ7"
      },
      "source": [
        "import tensorflow as tf\n"
      ],
      "execution_count": null,
      "outputs": []
    },
    {
      "cell_type": "code",
      "metadata": {
        "id": "op0yz9U4NBQ8"
      },
      "source": [
        "m = tf.keras.Sequential()\n"
      ],
      "execution_count": null,
      "outputs": []
    },
    {
      "cell_type": "code",
      "metadata": {
        "id": "1tKvWDXbNBQ9"
      },
      "source": [
        "m.add(tf.keras.layers.Dense(units=16, input_shape=(255,255,), activation='relu'))"
      ],
      "execution_count": null,
      "outputs": []
    },
    {
      "cell_type": "code",
      "metadata": {
        "id": "jhj2aS_MNBQ-"
      },
      "source": [
        "m.summary()"
      ],
      "execution_count": null,
      "outputs": []
    },
    {
      "cell_type": "code",
      "metadata": {
        "id": "NFFfO9L0NBQ_"
      },
      "source": [
        "import os\n",
        "os.environ['TF_CPP_MIN_LOG_LEVEL'] = '3'  # or any {'0', '1', '2'}\n",
        "import tensorflow as tf"
      ],
      "execution_count": null,
      "outputs": []
    },
    {
      "cell_type": "code",
      "metadata": {
        "id": "p12TmOyyNBQ_"
      },
      "source": [
        "m.summary()"
      ],
      "execution_count": null,
      "outputs": []
    },
    {
      "cell_type": "code",
      "metadata": {
        "scrolled": true,
        "id": "g6PO7HLPNBQ_"
      },
      "source": [
        "from IPython.display import HTML\n",
        "from IPython.display import display\n",
        "\n",
        "tag = HTML('''<script>\n",
        "code_show=true; \n",
        "function code_toggle() {\n",
        "    if (code_show){\n",
        "        $('div.cell.code_cell.rendered.selected div.input').hide();\n",
        "    } else {\n",
        "        $('div.cell.code_cell.rendered.selected div.input').show();\n",
        "    }\n",
        "    code_show = !code_show\n",
        "} \n",
        "$( document ).ready(code_toggle);\n",
        "</script>\n",
        "To show/hide this cell's raw code input, click <a href=\"javascript:code_toggle()\">here</a>.''')\n",
        "display(tag)\n",
        "\n",
        "############### Write code below ##################\n",
        "from IPython.display import YouTubeVideo\n",
        "YouTubeVideo(id='3ByeWbR-3E4')"
      ],
      "execution_count": null,
      "outputs": []
    },
    {
      "cell_type": "code",
      "metadata": {
        "id": "n0TyJbqUNBRA"
      },
      "source": [
        ""
      ],
      "execution_count": null,
      "outputs": []
    }
  ]
}