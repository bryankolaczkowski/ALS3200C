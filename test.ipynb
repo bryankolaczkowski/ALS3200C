{
  "nbformat": 4,
  "nbformat_minor": 0,
  "metadata": {
    "colab": {
      "name": "Untitled1.ipynb",
      "provenance": [],
      "authorship_tag": "ABX9TyNQOir0LTr4Kl7s9EW/6hji"
    },
    "kernelspec": {
      "name": "python3",
      "display_name": "Python 3"
    },
    "language_info": {
      "name": "python"
    }
  },
  "cells": [
    {
      "cell_type": "markdown",
      "metadata": {
        "id": "cnVhnSulRVDO"
      },
      "source": [
        "# heading\n",
        "foobar\n"
      ]
    },
    {
      "cell_type": "code",
      "metadata": {
        "id": "FRKoA8IeRPgH"
      },
      "source": [
        "import tensorflow as tf\n",
        "tf.config.list_physical_devices()"
      ],
      "execution_count": null,
      "outputs": []
    },
    {
      "cell_type": "markdown",
      "metadata": {
        "id": "j6rxYURFRQUn"
      },
      "source": [
        ""
      ]
    }
  ]
}